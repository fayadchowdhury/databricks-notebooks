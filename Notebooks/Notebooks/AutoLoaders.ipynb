{
 "cells": [
  {
   "cell_type": "markdown",
   "metadata": {
    "application/vnd.databricks.v1+cell": {
     "cellMetadata": {},
     "inputWidgets": {},
     "nuid": "1e33aebb-4d48-4ad9-9755-a687af5c5f25",
     "showTitle": false,
     "tableResultSettingsMap": {},
     "title": ""
    }
   },
   "source": [
    "AutoLoader is a utility to automatically and efficiently ingest new files that show up in cloud storage"
   ]
  },
  {
   "cell_type": "code",
   "execution_count": 0,
   "metadata": {
    "application/vnd.databricks.v1+cell": {
     "cellMetadata": {
      "byteLimit": 2048000,
      "rowLimit": 10000
     },
     "inputWidgets": {},
     "nuid": "1b3293e0-114f-4cb8-90fe-48ec50c3b165",
     "showTitle": false,
     "tableResultSettingsMap": {},
     "title": ""
    }
   },
   "outputs": [],
   "source": [
    "# Create input folder on volume\n",
    "dbutils.fs.mkdirs(\"/Volumes/dev/bronze/landing/autoloader_input/2010/12/01\")\n",
    "dbutils.fs.mkdirs(\"/Volumes/dev/bronze/landing/autoloader_input/2010/12/02\")\n",
    "dbutils.fs.mkdirs(\"/Volumes/dev/bronze/landing/autoloader_input/2010/12/03\")\n",
    "dbutils.fs.mkdirs(\"/Volumes/dev/bronze/landing/autoloader_input/2010/12/04\")\n",
    "dbutils.fs.mkdirs(\"/Volumes/dev/bronze/landing/autoloader_input/2010/12/05\")\n",
    "dbutils.fs.mkdirs(\"/Volumes/dev/bronze/landing/autoloader_input/2010/12/06\")\n",
    "dbutils.fs.mkdirs(\"/Volumes/dev/bronze/landing/autoloader_input/2010/12/07\")"
   ]
  },
  {
   "cell_type": "code",
   "execution_count": 0,
   "metadata": {
    "application/vnd.databricks.v1+cell": {
     "cellMetadata": {
      "byteLimit": 2048000,
      "rowLimit": 10000
     },
     "inputWidgets": {},
     "nuid": "b83172e6-506b-4af5-b158-14ccea3ea0cd",
     "showTitle": false,
     "tableResultSettingsMap": {},
     "title": ""
    }
   },
   "outputs": [],
   "source": [
    "# Create checkpoint location on volume\n",
    "# Checkpoints are used to manage and incrementally process files from cloud storage\n",
    "dbutils.fs.mkdirs(\"/Volumes/dev/bronze/landing/checkpoint/autoloader\")"
   ]
  },
  {
   "cell_type": "code",
   "execution_count": 0,
   "metadata": {
    "application/vnd.databricks.v1+cell": {
     "cellMetadata": {
      "byteLimit": 2048000,
      "rowLimit": 10000
     },
     "inputWidgets": {},
     "nuid": "961f3ef0-9725-4632-baf5-720acda88667",
     "showTitle": false,
     "tableResultSettingsMap": {},
     "title": ""
    }
   },
   "outputs": [],
   "source": [
    "# Copy files to nested location\n",
    "dbutils.fs.cp(\"/databricks-datasets/definitive-guide/data/retail-data/by-day/2010-12-01.csv\", \"/Volumes/dev/bronze/landing/autoloader_input/2010/12/01\")\n",
    "dbutils.fs.cp(\"/databricks-datasets/definitive-guide/data/retail-data/by-day/2010-12-02.csv\", \"/Volumes/dev/bronze/landing/autoloader_input/2010/12/02\")\n",
    "dbutils.fs.cp(\"/databricks-datasets/definitive-guide/data/retail-data/by-day/2010-12-03.csv\", \"/Volumes/dev/bronze/landing/autoloader_input/2010/12/03\")"
   ]
  },
  {
   "cell_type": "code",
   "execution_count": 0,
   "metadata": {
    "application/vnd.databricks.v1+cell": {
     "cellMetadata": {
      "byteLimit": 2048000,
      "rowLimit": 10000
     },
     "inputWidgets": {},
     "nuid": "4a063cbb-d08f-411c-8ec0-b43f7857ff41",
     "showTitle": false,
     "tableResultSettingsMap": {},
     "title": ""
    }
   },
   "outputs": [],
   "source": [
    "# Ingest with autloader\n",
    "# There are 2 modes of file detection\n",
    "# 1. Directory Listing - Uses API calls to detect new files\n",
    "# 2. File Notification - Uses Notification and Queue services on cloud account (requires elevated cloud permissions)\n",
    "# By default, option 1 is selected\n",
    "\n",
    "df = (\n",
    "    spark\n",
    "    .readStream # Similar to structured streaming\n",
    "    .format(\"cloudFiles\")\n",
    "    .option(\"cloudFiles.format\", \"csv\") # Specifies file format\n",
    "    .option(\"pathGlobFilter\", \"*.csv\") # Specifies file extension\n",
    "    .option(\"header\", \"true\") # Grabs header \n",
    "    .option(\"cloudFiles.schemaEvolutionMode\", \"addNewColums\") # This is the default behavior (first rerun with new columns fails, second rerun works); there's also \"rescue\" (new column and data in _rescued_data column), \"none\" (schema changes are ignored) or \"failOnNewColumn\" (fails if new column is added)\n",
    "    .option(\"cloudFiles.schemaHints\", \"Quantity int, UnitPrice double\") # Provides hints on reading schema\n",
    "    .option(\"cloudFiles.schemaLocation\", \"/Volumes/dev/bronze/landing/checkpoint/autoloader/1/\") # Stores schema used for schema evolutions\n",
    "    .load(\"/Volumes/dev/bronze/landing/autoloader_input/*/\") # Directs autloader to read from this location recursively\n",
    ")\n",
    "\n",
    "# Re-running this won't read the same file again thanks to checkpointing"
   ]
  },
  {
   "cell_type": "code",
   "execution_count": 0,
   "metadata": {
    "application/vnd.databricks.v1+cell": {
     "cellMetadata": {
      "byteLimit": 2048000,
      "rowLimit": 10000
     },
     "inputWidgets": {},
     "nuid": "3efb3954-9bd8-462a-aeb9-4536395bc8d2",
     "showTitle": false,
     "tableResultSettingsMap": {},
     "title": ""
    }
   },
   "outputs": [],
   "source": [
    "from pyspark.sql.functions import col\n",
    "\n",
    "(\n",
    "    df\n",
    "    .withColumn(\"__file\", col(\"_metadata.file_name\")) # Acquire file name; _metadata is a hidden column already available in all DataFrames\n",
    "    .writeStream # Write stream data\n",
    "    .option(\"checkpointLocation\", \"/Volumes/dev/bronze/landing/checkpoint/autoloader/1/\") # Specify checkpoint location\n",
    "    .option(\"mergeSchema\", \"true\")\n",
    "    .outputMode(\"append\") # Write in append mode\n",
    "    .trigger(availableNow=True) # To process in batches\n",
    "    .toTable(\"dev.bronze.invoice_al_1\") # Write to a table called dev.bronze.invoice_al_1\n",
    ")\n",
    "# Initializes a stream and terminates it when it is done writing"
   ]
  },
  {
   "cell_type": "code",
   "execution_count": 0,
   "metadata": {
    "application/vnd.databricks.v1+cell": {
     "cellMetadata": {
      "byteLimit": 2048000,
      "implicitDf": true,
      "rowLimit": 10000
     },
     "inputWidgets": {},
     "nuid": "33d6bcad-a6ac-49de-a9c3-5061bc643e01",
     "showTitle": false,
     "tableResultSettingsMap": {},
     "title": ""
    }
   },
   "outputs": [],
   "source": [
    "%sql\n",
    "select __file, count(*) as num_records from dev.bronze.invoice_al_1\n",
    "group by __file;"
   ]
  },
  {
   "cell_type": "code",
   "execution_count": 0,
   "metadata": {
    "application/vnd.databricks.v1+cell": {
     "cellMetadata": {
      "byteLimit": 2048000,
      "rowLimit": 10000
     },
     "inputWidgets": {},
     "nuid": "5cd19efd-f4ba-410f-a12c-4cb21d3dd098",
     "showTitle": false,
     "tableResultSettingsMap": {},
     "title": ""
    }
   },
   "outputs": [],
   "source": [
    "# Copy some more data files\n",
    "dbutils.fs.cp(\"/databricks-datasets/definitive-guide/data/retail-data/by-day/2010-12-05.csv\", \"/Volumes/dev/bronze/landing/autoloader_input/2010/12/05\")\n",
    "dbutils.fs.cp(\"/databricks-datasets/definitive-guide/data/retail-data/by-day/2010-12-06.csv\", \"/Volumes/dev/bronze/landing/autoloader_input/2010/12/06\")"
   ]
  }
 ],
 "metadata": {
  "application/vnd.databricks.v1+notebook": {
   "computePreferences": null,
   "dashboards": [],
   "environmentMetadata": {
    "base_environment": "",
    "environment_version": "2"
   },
   "language": "python",
   "notebookMetadata": {
    "mostRecentlyExecutedCommandWithImplicitDF": {
     "commandId": 4826101381371686,
     "dataframes": [
      "_sqldf"
     ]
    },
    "pythonIndentUnit": 4
   },
   "notebookName": "AutoLoaders",
   "widgets": {}
  },
  "language_info": {
   "name": "python"
  }
 },
 "nbformat": 4,
 "nbformat_minor": 0
}
