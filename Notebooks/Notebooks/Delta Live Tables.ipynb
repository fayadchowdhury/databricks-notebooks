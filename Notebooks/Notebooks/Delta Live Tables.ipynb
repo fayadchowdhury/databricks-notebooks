{
 "cells": [
  {
   "cell_type": "code",
   "execution_count": 0,
   "metadata": {
    "application/vnd.databricks.v1+cell": {
     "cellMetadata": {
      "byteLimit": 2048000,
      "rowLimit": 10000
     },
     "inputWidgets": {},
     "nuid": "8a5d8c12-7592-4e26-ab08-b32c8bd3c577",
     "showTitle": false,
     "tableResultSettingsMap": {},
     "title": ""
    }
   },
   "outputs": [],
   "source": [
    "-- To list all catalogs\n",
    "show catalogs;\n",
    "\n",
    "-- To list all catalogs containing some keyword\n",
    "show catalogs like '*e*'; -- Somehow different from PSQL where % is used as the wildcard character instead"
   ]
  },
  {
   "cell_type": "code",
   "execution_count": 0,
   "metadata": {
    "application/vnd.databricks.v1+cell": {
     "cellMetadata": {
      "byteLimit": 2048000,
      "rowLimit": 10000
     },
     "inputWidgets": {},
     "nuid": "44ae8f34-0666-44d6-8a47-3041d77e4c4b",
     "showTitle": false,
     "tableResultSettingsMap": {},
     "title": ""
    }
   },
   "outputs": [],
   "source": [
    "-- To list all schemas in a catalog\n",
    "show schemas in `dev`;\n",
    "\n",
    "-- To list all schemas in a catalog containing some keyword\n",
    "show schemas in `dev` like '*l*';"
   ]
  },
  {
   "cell_type": "code",
   "execution_count": 0,
   "metadata": {
    "application/vnd.databricks.v1+cell": {
     "cellMetadata": {
      "byteLimit": 2048000,
      "rowLimit": 10000
     },
     "inputWidgets": {},
     "nuid": "153a1052-a0e9-4869-ac72-200b63956deb",
     "showTitle": false,
     "tableResultSettingsMap": {},
     "title": ""
    }
   },
   "outputs": [],
   "source": [
    "-- To list all tables in a schema\n",
    "show tables in dev.silver;\n",
    "\n",
    "-- To list all tables in a schema containing some keyword\n",
    "show tables in dev.silver like '*ext*';"
   ]
  },
  {
   "cell_type": "code",
   "execution_count": 0,
   "metadata": {
    "application/vnd.databricks.v1+cell": {
     "cellMetadata": {
      "byteLimit": 2048000,
      "rowLimit": 10000
     },
     "inputWidgets": {},
     "nuid": "ff8b23a5-fb4f-472d-9042-e5928da3de05",
     "showTitle": false,
     "tableResultSettingsMap": {},
     "title": ""
    }
   },
   "outputs": [],
   "source": [
    "%python\n",
    "# It is also possible to list all tables using the listTables() method.\n",
    "spark.catalog.listTables('dev.bronze')\n",
    "\n",
    "# And you can also check if a table exists using the tableExists() method.\n",
    "spark.catalog.tableExists('dev.bronze.users') # False"
   ]
  },
  {
   "cell_type": "code",
   "execution_count": 0,
   "metadata": {
    "application/vnd.databricks.v1+cell": {
     "cellMetadata": {
      "byteLimit": 2048000,
      "rowLimit": 10000
     },
     "inputWidgets": {},
     "nuid": "857a17a4-c726-41f5-8ae9-cfa077107170",
     "showTitle": false,
     "tableResultSettingsMap": {},
     "title": ""
    }
   },
   "outputs": [],
   "source": [
    "-- To view the history of a delta table\n",
    "describe history dev.bronze.data;\n",
    "\n",
    "-- To query a particular instance in the history of a delta table\n",
    "select * from dev.bronze.data@v1; -- v0 was the CREATE TABLE result"
   ]
  },
  {
   "cell_type": "code",
   "execution_count": 0,
   "metadata": {
    "application/vnd.databricks.v1+cell": {
     "cellMetadata": {
      "byteLimit": 2048000,
      "rowLimit": 10000
     },
     "inputWidgets": {},
     "nuid": "e22b2187-3091-449f-8c73-08496f31e16b",
     "showTitle": false,
     "tableResultSettingsMap": {},
     "title": ""
    }
   },
   "outputs": [],
   "source": [
    "-- To view all kinds of metadata about a table\n",
    "describe extended dev.bronze.data;"
   ]
  },
  {
   "cell_type": "code",
   "execution_count": 0,
   "metadata": {
    "application/vnd.databricks.v1+cell": {
     "cellMetadata": {
      "byteLimit": 2048000,
      "rowLimit": 10000
     },
     "inputWidgets": {},
     "nuid": "1c1c4bed-dd9d-421c-ad0e-5caa5c66c8a6",
     "showTitle": false,
     "tableResultSettingsMap": {},
     "title": ""
    }
   },
   "outputs": [],
   "source": [
    "-- To create a temporary view that is lost when the session is destroyed\n",
    "create or replace temporary view data_temp as select * from dev.bronze.data where data_id in (1, 2, 3); -- Does not take in catalog.schema.view naming format, only view name\n",
    "\n",
    "select * from data_temp;"
   ]
  },
  {
   "cell_type": "code",
   "execution_count": 0,
   "metadata": {
    "application/vnd.databricks.v1+cell": {
     "cellMetadata": {
      "byteLimit": 2048000,
      "rowLimit": 10000
     },
     "inputWidgets": {},
     "nuid": "a8c0bba6-e901-468f-a399-ebf0902c4df0",
     "showTitle": false,
     "tableResultSettingsMap": {},
     "title": ""
    }
   },
   "outputs": [],
   "source": [
    "-- To create a view that persists\n",
    "create or replace view dev.bronze.data_temp as select * from dev.bronze.data where data_id in (2, 3);\n",
    "\n",
    "select * from dev.bronze.data_temp;"
   ]
  },
  {
   "cell_type": "code",
   "execution_count": 0,
   "metadata": {
    "application/vnd.databricks.v1+cell": {
     "cellMetadata": {
      "byteLimit": 2048000,
      "rowLimit": 10000
     },
     "inputWidgets": {},
     "nuid": "aa6eda25-3572-45af-b276-1d145211fe19",
     "showTitle": false,
     "tableResultSettingsMap": {},
     "title": ""
    }
   },
   "outputs": [],
   "source": [
    "-- CTAS - Create table as select\n",
    "-- Duplicates to a different location\n",
    "create or replace table dev.bronze.data_ctas as\n",
    "select * from dev.bronze.data;"
   ]
  },
  {
   "cell_type": "code",
   "execution_count": 0,
   "metadata": {
    "application/vnd.databricks.v1+cell": {
     "cellMetadata": {
      "byteLimit": 2048000,
      "rowLimit": 10000
     },
     "inputWidgets": {},
     "nuid": "0f8ec01a-7fc9-4127-bd18-d96ecde2f23d",
     "showTitle": false,
     "tableResultSettingsMap": {},
     "title": ""
    }
   },
   "outputs": [],
   "source": [
    "describe extended dev.bronze.data;"
   ]
  },
  {
   "cell_type": "code",
   "execution_count": 0,
   "metadata": {
    "application/vnd.databricks.v1+cell": {
     "cellMetadata": {
      "byteLimit": 2048000,
      "rowLimit": 10000
     },
     "inputWidgets": {},
     "nuid": "4350dff4-abd4-4baa-a17f-2589ca0fc987",
     "showTitle": false,
     "tableResultSettingsMap": {},
     "title": ""
    }
   },
   "outputs": [],
   "source": [
    "-- Deep clone\n",
    "-- Copies both data and metadata\n",
    "create or replace table dev.bronze.data_deep_clone\n",
    "deep clone dev.bronze.data;\n",
    "\n",
    "describe extended dev.bronze.data_deep_clone; -- Exact metadata and all properties"
   ]
  },
  {
   "cell_type": "code",
   "execution_count": 0,
   "metadata": {
    "application/vnd.databricks.v1+cell": {
     "cellMetadata": {
      "byteLimit": 2048000,
      "rowLimit": 10000
     },
     "inputWidgets": {},
     "nuid": "5b27cb03-e050-4139-8c9d-fe8295311267",
     "showTitle": false,
     "tableResultSettingsMap": {},
     "title": ""
    }
   },
   "outputs": [],
   "source": [
    "-- Shallow clone\n",
    "-- Copies metadata only; data points to location where original data is stored\n",
    "create or replace table dev.bronze.data_shallow_clone\n",
    "shallow clone dev.bronze.data;\n",
    "\n",
    "describe extended dev.bronze.data_shallow_clone;\n",
    "-- Only the metadata is copied; data points to the original location\n",
    "-- If new data is added to the original table, it is not reflected in the shallow clone because it refers to a particular version in the history of the original table\n",
    "-- If new data is added to the clone, the original table is not affected; the new data record is stored in the clone table's location"
   ]
  },
  {
   "cell_type": "code",
   "execution_count": 0,
   "metadata": {
    "application/vnd.databricks.v1+cell": {
     "cellMetadata": {
      "byteLimit": 2048000,
      "rowLimit": 10000
     },
     "inputWidgets": {},
     "nuid": "34ec5deb-ad69-4f92-aca6-bc6743d213f7",
     "showTitle": false,
     "tableResultSettingsMap": {},
     "title": ""
    }
   },
   "outputs": [],
   "source": [
    "-- Create dummy pre and post tables\n",
    "create or replace table dev.bronze.data_pre\n",
    "(\n",
    "  data_id int,\n",
    "  value string\n",
    ");\n",
    "\n",
    "insert into dev.bronze.data_pre values (1, \"ABC\");\n",
    "insert into dev.bronze.data_pre values (2, \"DEF\");\n",
    "insert into dev.bronze.data_pre values (3, \"GHI\");\n",
    "\n",
    "create or replace table dev.bronze.data_post\n",
    "(\n",
    "  data_id int,\n",
    "  value string\n",
    ");\n",
    "\n",
    "insert into dev.bronze.data_post values (1, \"ABC-new\");\n",
    "insert into dev.bronze.data_post values (2, \"DEF-new\");\n",
    "insert into dev.bronze.data_post values (4, \"JKL\");"
   ]
  },
  {
   "cell_type": "code",
   "execution_count": 0,
   "metadata": {
    "application/vnd.databricks.v1+cell": {
     "cellMetadata": {
      "byteLimit": 2048000,
      "rowLimit": 10000
     },
     "inputWidgets": {},
     "nuid": "cce3c3c2-a1b6-4d37-84ed-c38ccb4e5622",
     "showTitle": false,
     "tableResultSettingsMap": {},
     "title": ""
    }
   },
   "outputs": [],
   "source": [
    "select * from dev.bronze.data_pre;"
   ]
  },
  {
   "cell_type": "code",
   "execution_count": 0,
   "metadata": {
    "application/vnd.databricks.v1+cell": {
     "cellMetadata": {
      "byteLimit": 2048000,
      "rowLimit": 10000
     },
     "inputWidgets": {},
     "nuid": "d8054989-a789-4d2d-a685-df7c649f6480",
     "showTitle": false,
     "tableResultSettingsMap": {},
     "title": ""
    }
   },
   "outputs": [],
   "source": [
    "select * from dev.bronze.data_post;"
   ]
  },
  {
   "cell_type": "code",
   "execution_count": 0,
   "metadata": {
    "application/vnd.databricks.v1+cell": {
     "cellMetadata": {
      "byteLimit": 2048000,
      "rowLimit": 10000
     },
     "inputWidgets": {},
     "nuid": "835e2099-52e5-497d-87c6-91b166d7e82c",
     "showTitle": false,
     "tableResultSettingsMap": {},
     "title": ""
    }
   },
   "outputs": [],
   "source": [
    "-- Create dummy final table in silver\n",
    "create or replace table dev.silver.data_final as\n",
    "select * from dev.bronze.data_pre;"
   ]
  },
  {
   "cell_type": "code",
   "execution_count": 0,
   "metadata": {
    "application/vnd.databricks.v1+cell": {
     "cellMetadata": {
      "byteLimit": 2048000,
      "rowLimit": 10000
     },
     "inputWidgets": {},
     "nuid": "99525eac-01e7-4a53-bc6d-524555054777",
     "showTitle": false,
     "tableResultSettingsMap": {},
     "title": ""
    }
   },
   "outputs": [],
   "source": [
    "select * from dev.silver.data_final;"
   ]
  },
  {
   "cell_type": "code",
   "execution_count": 0,
   "metadata": {
    "application/vnd.databricks.v1+cell": {
     "cellMetadata": {
      "byteLimit": 2048000,
      "rowLimit": 10000
     },
     "inputWidgets": {},
     "nuid": "765f3ef1-ec50-4670-b2eb-7b7d8c737bc4",
     "showTitle": false,
     "tableResultSettingsMap": {},
     "title": ""
    }
   },
   "outputs": [],
   "source": [
    "-- Merge - upsert\n",
    "merge into dev.silver.data_final m\n",
    "using dev.bronze.data_post u\n",
    "on m.data_id = u.data_id\n",
    "when matched then\n",
    "update set m.value = u.value -- update if match\n",
    "when not matched then\n",
    "insert *; -- insert if id does not exist"
   ]
  },
  {
   "cell_type": "code",
   "execution_count": 0,
   "metadata": {
    "application/vnd.databricks.v1+cell": {
     "cellMetadata": {
      "byteLimit": 2048000,
      "rowLimit": 10000
     },
     "inputWidgets": {},
     "nuid": "0e815694-e943-4512-997f-f527c224f597",
     "showTitle": false,
     "tableResultSettingsMap": {},
     "title": ""
    }
   },
   "outputs": [],
   "source": [
    "select * from dev.silver.data_final; -- updated data_id = 1 and 2, inserted data_id = 4"
   ]
  },
  {
   "cell_type": "code",
   "execution_count": 0,
   "metadata": {
    "application/vnd.databricks.v1+cell": {
     "cellMetadata": {
      "byteLimit": 2048000,
      "rowLimit": 10000
     },
     "inputWidgets": {},
     "nuid": "df70a0d9-f704-4191-bf61-0a97450c2061",
     "showTitle": false,
     "tableResultSettingsMap": {},
     "title": ""
    }
   },
   "outputs": [],
   "source": [
    "-- Merge - delete from target if not found\n",
    "merge into dev.silver.data_final m\n",
    "using dev.bronze.data_post u\n",
    "on m.data_id = u.data_id\n",
    "when matched then\n",
    "update set m.value = u.value -- update if match\n",
    "when not matched then\n",
    "insert * -- insert if id does not exist\n",
    "when not matched by source then\n",
    "delete; -- delete if id does not exist in source"
   ]
  },
  {
   "cell_type": "code",
   "execution_count": 0,
   "metadata": {
    "application/vnd.databricks.v1+cell": {
     "cellMetadata": {
      "byteLimit": 2048000,
      "rowLimit": 10000
     },
     "inputWidgets": {},
     "nuid": "4698b56a-997e-4acd-bc9f-0ebbbbabf934",
     "showTitle": false,
     "tableResultSettingsMap": {},
     "title": ""
    }
   },
   "outputs": [],
   "source": [
    "select * from dev.silver.data_final; -- deleted data_id = 3 from target because key was not in source"
   ]
  },
  {
   "cell_type": "code",
   "execution_count": 0,
   "metadata": {
    "application/vnd.databricks.v1+cell": {
     "cellMetadata": {
      "byteLimit": 2048000,
      "rowLimit": 10000
     },
     "inputWidgets": {},
     "nuid": "639210c2-32f8-4e52-a0df-1aa025b6513f",
     "showTitle": false,
     "tableResultSettingsMap": {},
     "title": ""
    }
   },
   "outputs": [],
   "source": [
    "-- Merge - soft delete from target if not found (add some kind of flag column)\n",
    "-- First alter table to add flag column\n",
    "alter table dev.silver.data_final add column status string;\n",
    "\n",
    "-- Merge conditions\n",
    "merge into dev.silver.data_final m\n",
    "using dev.bronze.data_post u\n",
    "on m.data_id = u.data_id\n",
    "when matched then\n",
    "update set m.value = u.value, m.status = 'updated' -- update if match\n",
    "when not matched then\n",
    "insert \n",
    "(\n",
    "  data_id,\n",
    "  value,\n",
    "  status\n",
    ")\n",
    "values\n",
    "(\n",
    "  u.data_id,\n",
    "  u.value,\n",
    "  'new'\n",
    ") -- insert if id does not exist, columns and values need to be specified here since there is an extra column added here\n",
    "when not matched by source then\n",
    "update set status = 'inactive'; -- update status to 'inactive' if id does not exist in source"
   ]
  },
  {
   "cell_type": "code",
   "execution_count": 0,
   "metadata": {
    "application/vnd.databricks.v1+cell": {
     "cellMetadata": {
      "byteLimit": 2048000,
      "rowLimit": 10000
     },
     "inputWidgets": {},
     "nuid": "d502b6c9-18a2-45d5-8048-c1f88aaec141",
     "showTitle": false,
     "tableResultSettingsMap": {},
     "title": ""
    }
   },
   "outputs": [],
   "source": [
    "select * from dev.silver.data_final;"
   ]
  },
  {
   "cell_type": "code",
   "execution_count": 0,
   "metadata": {
    "application/vnd.databricks.v1+cell": {
     "cellMetadata": {
      "byteLimit": 2048000,
      "rowLimit": 10000
     },
     "inputWidgets": {},
     "nuid": "0589007d-3bbc-45dc-aa43-cab7c9ee5f38",
     "showTitle": false,
     "tableResultSettingsMap": {},
     "title": ""
    }
   },
   "outputs": [],
   "source": [
    "update dev.silver.data_final set status = 'active' where status = 'null' or status is null;"
   ]
  },
  {
   "cell_type": "code",
   "execution_count": 0,
   "metadata": {
    "application/vnd.databricks.v1+cell": {
     "cellMetadata": {
      "byteLimit": 2048000,
      "rowLimit": 10000
     },
     "inputWidgets": {},
     "nuid": "56c56120-0625-47b6-9efe-cd0ddef6063b",
     "showTitle": false,
     "tableResultSettingsMap": {},
     "title": ""
    }
   },
   "outputs": [],
   "source": [
    "-- Deletion vectors\n",
    "-- Often datasets come partitioned in multiple parquet or csv files or such. Deleting a few records from a Delta Live Table may require the deletion and writing of multiple files in the Delta Lake. This would be inefficient. To avoid this, Delta Live Tables has a feature called Deleteion Vectors which are flags that specify a file or files corresponding to a record needs to be deleted during maintenance updates of the tables or the Delta Lake when the record itself is deleted. This allows delete operations to be sort of batched together in the Delta Lake and prevents excessive file reads/writes. One can also make the file modifications instantly by optimizing the table using the OPTIMIZE command.\n",
    "-- Deletion vectors are enabled by default.\n",
    "create or replace table dev.bronze.retail_data_new as\n",
    "select * from\n",
    "read_files( -- This is a utility to read CSV files from a directory\n",
    "  'dbfs:/databricks-datasets/online_retail/data-001/data.csv',\n",
    "  format => 'csv',\n",
    "  header => true\n",
    ");"
   ]
  },
  {
   "cell_type": "code",
   "execution_count": 0,
   "metadata": {
    "application/vnd.databricks.v1+cell": {
     "cellMetadata": {
      "byteLimit": 2048000,
      "rowLimit": 10000
     },
     "inputWidgets": {},
     "nuid": "a5bccfc9-975b-4c10-8111-c08f0b48c55a",
     "showTitle": false,
     "tableResultSettingsMap": {},
     "title": ""
    }
   },
   "outputs": [],
   "source": [
    "select * from dev.bronze.retail_data_new;"
   ]
  },
  {
   "cell_type": "code",
   "execution_count": 0,
   "metadata": {
    "application/vnd.databricks.v1+cell": {
     "cellMetadata": {
      "byteLimit": 2048000,
      "rowLimit": 10000
     },
     "inputWidgets": {},
     "nuid": "63ca2d46-297f-4fc4-9498-85f11aa87db3",
     "showTitle": false,
     "tableResultSettingsMap": {},
     "title": ""
    }
   },
   "outputs": [],
   "source": [
    "describe extended dev.bronze.retail_data_new;\n",
    "-- In Table Properties, it says delta.enableDeletionVectors=True"
   ]
  },
  {
   "cell_type": "code",
   "execution_count": 0,
   "metadata": {
    "application/vnd.databricks.v1+cell": {
     "cellMetadata": {
      "byteLimit": 2048000,
      "rowLimit": 10000
     },
     "inputWidgets": {},
     "nuid": "08a6bdec-1c05-46b5-aa68-1c9cadb7a26b",
     "showTitle": false,
     "tableResultSettingsMap": {},
     "title": ""
    }
   },
   "outputs": [],
   "source": [
    "-- Disable deletion vectors and observe deletion operation effects\n",
    "alter table dev.bronze.retail_data_new set tblproperties (delta.enableDeletionVectors = False);\n",
    "\n",
    "delete from dev.bronze.retail_data_new where InvoiceNo = 540644;\n",
    "\n",
    "describe history dev.bronze.retail_data_new;\n",
    "-- We deleted 35 rows, 2 files and added 1 file per operationMetrics from history"
   ]
  },
  {
   "cell_type": "code",
   "execution_count": 0,
   "metadata": {
    "application/vnd.databricks.v1+cell": {
     "cellMetadata": {
      "byteLimit": 2048000,
      "rowLimit": 10000
     },
     "inputWidgets": {},
     "nuid": "5b220baf-3aed-46c2-b8c1-10a3221abb2a",
     "showTitle": false,
     "tableResultSettingsMap": {},
     "title": ""
    }
   },
   "outputs": [],
   "source": [
    "-- Re-enable deletion vectors and observe deletion operation effects\n",
    "alter table dev.bronze.retail_data_new set tblproperties (delta.enableDeletionVectors = True);\n",
    "\n",
    "delete from dev.bronze.retail_data_new where InvoiceNo = 536368;\n",
    "\n",
    "describe history dev.bronze.retail_data_new;\n",
    "-- We added 1 deletion vector to delete 4 rows, removed and wrote 0 files per operationMetrics from history"
   ]
  },
  {
   "cell_type": "code",
   "execution_count": 0,
   "metadata": {
    "application/vnd.databricks.v1+cell": {
     "cellMetadata": {
      "byteLimit": 2048000,
      "rowLimit": 10000
     },
     "inputWidgets": {},
     "nuid": "70add25f-1ebf-40e5-a932-e50beffc4ced",
     "showTitle": false,
     "tableResultSettingsMap": {},
     "title": ""
    }
   },
   "outputs": [],
   "source": [
    "-- Liquid clustering\n",
    "-- Liquid clustering is a way to manage the size of files behind a table when the number of\n",
    "-- partitions is too little or too high. It is possible to achieve a similar effect with\n",
    "-- ZORDER and OPTIMIZE, but liquid cluetering is better since there is no need to rewrite\n",
    "-- the entire data for incremental data updates. Liquid clustering also takes care of\n",
    "-- repartitioning the file sizes for the selected clusters. These optimizations make\n",
    "-- queries and operations much faster.\n",
    "-- (??)\n",
    "\n",
    "-- Set cluster columns\n",
    "alter table dev.bronze.retail_data_new cluster by (InvoiceNo); -- This updates a few protocols on the tables\n",
    "\n",
    "-- Also possible to assign clustering on CT or CTAS command\n",
    "-- create or replace table dev.bronze.retail_data_new CLUSTER BY (InvoiceNo) as\n",
    "-- select * from\n",
    "-- read_files( -- This is a utility to read CSV files from a directory\n",
    "--   'dbfs:/databricks-datasets/online_retail/data-001/data.csv',\n",
    "--   format => 'csv',\n",
    "--   header => true\n",
    "-- );"
   ]
  },
  {
   "cell_type": "code",
   "execution_count": 0,
   "metadata": {
    "application/vnd.databricks.v1+cell": {
     "cellMetadata": {
      "byteLimit": 2048000,
      "rowLimit": 10000
     },
     "inputWidgets": {},
     "nuid": "374660f0-9e22-49b7-9f8c-befdd62a480a",
     "showTitle": false,
     "tableResultSettingsMap": {},
     "title": ""
    }
   },
   "outputs": [],
   "source": [
    "-- Querying (having the clustering column in filter or predicate) by clustering column\n",
    "select * from dev.bronze.retail_data_new where InvoiceNo = 536367;"
   ]
  }
 ],
 "metadata": {
  "application/vnd.databricks.v1+notebook": {
   "computePreferences": null,
   "dashboards": [],
   "environmentMetadata": {
    "base_environment": "",
    "environment_version": "2"
   },
   "language": "sql",
   "notebookMetadata": {
    "pythonIndentUnit": 4
   },
   "notebookName": "Delta Live Tables",
   "widgets": {}
  },
  "language_info": {
   "name": "sql"
  }
 },
 "nbformat": 4,
 "nbformat_minor": 0
}
