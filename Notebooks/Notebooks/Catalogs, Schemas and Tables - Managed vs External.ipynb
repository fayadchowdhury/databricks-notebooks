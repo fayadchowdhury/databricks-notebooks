{
 "cells": [
  {
   "cell_type": "markdown",
   "metadata": {
    "application/vnd.databricks.v1+cell": {
     "cellMetadata": {},
     "inputWidgets": {},
     "nuid": "b81d28c3-723f-44ae-a69f-0f75a9c490d2",
     "showTitle": false,
     "tableResultSettingsMap": {},
     "title": ""
    }
   },
   "source": [
    "#Catalogs and Tables"
   ]
  },
  {
   "cell_type": "markdown",
   "metadata": {
    "application/vnd.databricks.v1+cell": {
     "cellMetadata": {},
     "inputWidgets": {},
     "nuid": "b0000913-4c52-4253-887d-58fbff5aa41f",
     "showTitle": false,
     "tableResultSettingsMap": {},
     "title": ""
    }
   },
   "source": [
    "Catalogs"
   ]
  },
  {
   "cell_type": "code",
   "execution_count": 0,
   "metadata": {
    "application/vnd.databricks.v1+cell": {
     "cellMetadata": {
      "byteLimit": 2048000,
      "rowLimit": 10000
     },
     "inputWidgets": {},
     "nuid": "6aa4d054-531d-4a5a-a4c8-d4671b872463",
     "showTitle": false,
     "tableResultSettingsMap": {},
     "title": ""
    }
   },
   "outputs": [],
   "source": [
    "describe catalog extended dev;"
   ]
  },
  {
   "cell_type": "code",
   "execution_count": 0,
   "metadata": {
    "application/vnd.databricks.v1+cell": {
     "cellMetadata": {
      "byteLimit": 2048000,
      "rowLimit": 10000
     },
     "inputWidgets": {},
     "nuid": "6f205b09-5c3c-4246-be6b-395dc0f0148d",
     "showTitle": false,
     "tableResultSettingsMap": {},
     "title": ""
    }
   },
   "outputs": [],
   "source": [
    "-- Create an external location with SQL\n",
    "CREATE EXTERNAL LOCATION `ext_catalogs` URL 'abfss://data@dbextstore.dfs.core.windows.net/catalogs'\n",
    "WITH (STORAGE CREDENTIAL `databricks-access-connector`);"
   ]
  },
  {
   "cell_type": "code",
   "execution_count": 0,
   "metadata": {
    "application/vnd.databricks.v1+cell": {
     "cellMetadata": {
      "byteLimit": 2048000,
      "rowLimit": 10000
     },
     "inputWidgets": {},
     "nuid": "c560ba5d-546b-45d5-b37f-dbe52b85fa4b",
     "showTitle": false,
     "tableResultSettingsMap": {},
     "title": ""
    }
   },
   "outputs": [],
   "source": [
    "-- Also possible to create a catalog using SQL\n",
    "-- For this we are going to use the external location\n",
    "CREATE CATALOG dev\n",
    "MANAGED LOCATION 'abfss://data@dbextstore.dfs.core.windows.net/catalogs'"
   ]
  },
  {
   "cell_type": "code",
   "execution_count": 0,
   "metadata": {
    "application/vnd.databricks.v1+cell": {
     "cellMetadata": {
      "byteLimit": 2048000,
      "rowLimit": 10000
     },
     "inputWidgets": {},
     "nuid": "2f1bc6a0-1c4b-47c3-ab4e-197738408bca",
     "showTitle": false,
     "tableResultSettingsMap": {},
     "title": ""
    }
   },
   "outputs": [],
   "source": [
    "describe catalog extended dev;"
   ]
  },
  {
   "cell_type": "code",
   "execution_count": 0,
   "metadata": {
    "application/vnd.databricks.v1+cell": {
     "cellMetadata": {
      "byteLimit": 2048000,
      "rowLimit": 10000
     },
     "inputWidgets": {},
     "nuid": "85b4bea9-9605-4d96-b772-494a024a4aab",
     "showTitle": false,
     "tableResultSettingsMap": {},
     "title": ""
    }
   },
   "outputs": [],
   "source": [
    "-- drop catalog dev cascade;"
   ]
  },
  {
   "cell_type": "markdown",
   "metadata": {
    "application/vnd.databricks.v1+cell": {
     "cellMetadata": {},
     "inputWidgets": {},
     "nuid": "7b39939e-0456-4065-8da1-7000975f3934",
     "showTitle": false,
     "tableResultSettingsMap": {},
     "title": ""
    }
   },
   "source": [
    "Schemas"
   ]
  },
  {
   "cell_type": "code",
   "execution_count": 0,
   "metadata": {
    "application/vnd.databricks.v1+cell": {
     "cellMetadata": {
      "byteLimit": 2048000,
      "rowLimit": 10000
     },
     "inputWidgets": {},
     "nuid": "5f2da428-a806-4d75-998c-d8f3566936e8",
     "showTitle": false,
     "tableResultSettingsMap": {},
     "title": ""
    }
   },
   "outputs": [],
   "source": [
    "-- Define external location for schema\n",
    "CREATE EXTERNAL LOCATION `ext_schemas` URL 'abfss://data@dbextstore.dfs.core.windows.net/schemas'\n",
    "WITH (STORAGE CREDENTIAL `databricks-access-connector`);"
   ]
  },
  {
   "cell_type": "code",
   "execution_count": 0,
   "metadata": {
    "application/vnd.databricks.v1+cell": {
     "cellMetadata": {
      "byteLimit": 2048000,
      "rowLimit": 10000
     },
     "inputWidgets": {},
     "nuid": "ac6f7bf1-b722-4ef9-b0a5-b8ea6395153c",
     "showTitle": false,
     "tableResultSettingsMap": {},
     "title": ""
    }
   },
   "outputs": [],
   "source": [
    "-- Create schema without specifying external location\n",
    "CREATE SCHEMA dev.bronze\n",
    "COMMENT 'This is the bronze schema created without specifying an external location';\n",
    "\n",
    "CREATE TABLE dev.bronze.data(\n",
    "  data_id int,\n",
    "  value string\n",
    ");\n",
    "\n",
    "INSERT INTO dev.bronze.data VALUES (1, \"ABC\");\n",
    "\n",
    "DESCRIBE EXTENDED dev.bronze.data;"
   ]
  },
  {
   "cell_type": "code",
   "execution_count": 0,
   "metadata": {
    "application/vnd.databricks.v1+cell": {
     "cellMetadata": {
      "byteLimit": 2048000,
      "rowLimit": 10000
     },
     "inputWidgets": {},
     "nuid": "5357c27e-d1d4-4dd7-8593-888ac288b185",
     "showTitle": false,
     "tableResultSettingsMap": {},
     "title": ""
    }
   },
   "outputs": [],
   "source": [
    "-- Create schema specifying external location\n",
    "CREATE SCHEMA dev.silver\n",
    "MANAGED LOCATION 'abfss://data@dbextstore.dfs.core.windows.net/schemas/silver'\n",
    "COMMENT 'This is the silver schema created on an external location';\n",
    "\n",
    "CREATE TABLE dev.silver.data(\n",
    "  data_id int,\n",
    "  value string\n",
    ");\n",
    "\n",
    "INSERT INTO dev.silver.data VALUES (1, \"ABC\");\n",
    "\n",
    "DESCRIBE EXTENDED dev.silver.data;"
   ]
  },
  {
   "cell_type": "code",
   "execution_count": 0,
   "metadata": {
    "application/vnd.databricks.v1+cell": {
     "cellMetadata": {
      "byteLimit": 2048000,
      "rowLimit": 10000
     },
     "inputWidgets": {},
     "nuid": "2cebd384-2e76-40b1-b5b8-b1cb8b2d917d",
     "showTitle": false,
     "tableResultSettingsMap": {},
     "title": ""
    }
   },
   "outputs": [],
   "source": [
    "-- drop schema dev.bronze cascade;\n",
    "-- drop schema dev.silver cascade;"
   ]
  },
  {
   "cell_type": "markdown",
   "metadata": {
    "application/vnd.databricks.v1+cell": {
     "cellMetadata": {},
     "inputWidgets": {},
     "nuid": "485e9c24-eedf-47a2-80e3-1c03226e829f",
     "showTitle": false,
     "tableResultSettingsMap": {},
     "title": ""
    }
   },
   "source": [
    "Tables"
   ]
  },
  {
   "cell_type": "code",
   "execution_count": 0,
   "metadata": {
    "application/vnd.databricks.v1+cell": {
     "cellMetadata": {
      "byteLimit": 2048000,
      "rowLimit": 10000
     },
     "inputWidgets": {},
     "nuid": "9594a3c4-01be-478d-b04f-e52aea01746e",
     "showTitle": false,
     "tableResultSettingsMap": {},
     "title": ""
    }
   },
   "outputs": [],
   "source": [
    "CREATE EXTERNAL LOCATION `ext_tables` URL 'abfss://data@dbextstore.dfs.core.windows.net/tables'\n",
    "WITH (STORAGE CREDENTIAL `databricks-access-connector`);"
   ]
  },
  {
   "cell_type": "code",
   "execution_count": 0,
   "metadata": {
    "application/vnd.databricks.v1+cell": {
     "cellMetadata": {
      "byteLimit": 2048000,
      "rowLimit": 10000
     },
     "inputWidgets": {},
     "nuid": "425a1900-b0bd-4b88-bc65-4bbbe507f6d6",
     "showTitle": false,
     "tableResultSettingsMap": {},
     "title": ""
    }
   },
   "outputs": [],
   "source": [
    "CREATE TABLE IF NOT EXISTS dev.silver.data_ext(\n",
    "  dataid int,\n",
    "  value string\n",
    ")\n",
    "LOCATION 'abfss://data@dbextstore.dfs.core.windows.net/tables'; -- Should probably have specified a table name in the location as well\n",
    "\n",
    "INSERT INTO dev.silver.data_ext VALUES (1, \"ABC\");\n",
    "\n",
    "DESCRIBE EXTENDED dev.silver.data_ext; -- This is an external table"
   ]
  },
  {
   "cell_type": "markdown",
   "metadata": {
    "application/vnd.databricks.v1+cell": {
     "cellMetadata": {},
     "inputWidgets": {},
     "nuid": "4da0bf4c-8092-4d08-8cb5-c11ed49cf846",
     "showTitle": false,
     "tableResultSettingsMap": {},
     "title": ""
    }
   },
   "source": [
    "With the introduction of UNDROP, when using regular managed tables, the data is often deleted after a retention period of 7 days, but when using external tables, the data still remains. UNDROP allows you to sort of restore a deleted or DROP-ed table."
   ]
  }
 ],
 "metadata": {
  "application/vnd.databricks.v1+notebook": {
   "computePreferences": null,
   "dashboards": [],
   "environmentMetadata": {
    "base_environment": "",
    "environment_version": "2"
   },
   "language": "sql",
   "notebookMetadata": {
    "pythonIndentUnit": 4
   },
   "notebookName": "Catalogs, Schemas and Tables - Managed vs External",
   "widgets": {}
  },
  "language_info": {
   "name": "sql"
  }
 },
 "nbformat": 4,
 "nbformat_minor": 0
}
