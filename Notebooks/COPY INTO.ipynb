{
 "cells": [
  {
   "cell_type": "code",
   "execution_count": 0,
   "metadata": {
    "application/vnd.databricks.v1+cell": {
     "cellMetadata": {
      "byteLimit": 2048000,
      "implicitDf": true,
      "rowLimit": 10000
     },
     "inputWidgets": {},
     "nuid": "f275e0df-bb92-49c4-a910-13175ff4c6ac",
     "showTitle": false,
     "tableResultSettingsMap": {},
     "title": ""
    }
   },
   "outputs": [],
   "source": [
    "%sql\n",
    "-- Create managed volume to copy files into\n",
    "create volume dev.bronze.landing\n",
    "comment 'This is a managed volume to store input raw';"
   ]
  },
  {
   "cell_type": "code",
   "execution_count": 0,
   "metadata": {
    "application/vnd.databricks.v1+cell": {
     "cellMetadata": {
      "byteLimit": 2048000,
      "rowLimit": 10000
     },
     "inputWidgets": {},
     "nuid": "62c1cf82-d7db-49cb-b674-383f3d7c773c",
     "showTitle": false,
     "tableResultSettingsMap": {},
     "title": ""
    }
   },
   "outputs": [],
   "source": [
    "# Directory to store data\n",
    "dbutils.fs.mkdirs(\"/Volumes/dev/bronze/landing/input\")\n",
    "\n",
    "# Copy retail data CSV from databricks-datasets\n",
    "dbutils.fs.cp(\"/databricks-datasets/definitive-guide/data/retail-data/by-day/2010-12-01.csv\", \"/Volumes/dev/bronze/landing/input\")\n",
    "dbutils.fs.cp(\"/databricks-datasets/definitive-guide/data/retail-data/by-day/2010-12-02.csv\", \"/Volumes/dev/bronze/landing/input\")"
   ]
  },
  {
   "cell_type": "code",
   "execution_count": 0,
   "metadata": {
    "application/vnd.databricks.v1+cell": {
     "cellMetadata": {
      "byteLimit": 2048000,
      "implicitDf": true,
      "rowLimit": 10000
     },
     "inputWidgets": {},
     "nuid": "6bbaea48-4f28-4fb2-873a-f5f7ac042f18",
     "showTitle": false,
     "tableResultSettingsMap": {},
     "title": ""
    }
   },
   "outputs": [],
   "source": [
    "%sql\n",
    "-- Create a placeholder table to COPY INTO\n",
    "create table dev.bronze.invoice_cp;"
   ]
  },
  {
   "cell_type": "code",
   "execution_count": 0,
   "metadata": {
    "application/vnd.databricks.v1+cell": {
     "cellMetadata": {
      "byteLimit": 2048000,
      "implicitDf": true,
      "rowLimit": 10000
     },
     "inputWidgets": {},
     "nuid": "a00efc57-fb15-4447-ad08-159abeaca47d",
     "showTitle": false,
     "tableResultSettingsMap": {},
     "title": ""
    }
   },
   "outputs": [],
   "source": [
    "%sql\n",
    "-- COPY INTO\n",
    "COPY INTO dev.bronze.invoice_cp\n",
    "FROM '/Volumes/dev/bronze/landing/input/' -- Location to read files from\n",
    "FILEFORMAT = CSV -- Other valid file format options include PARQUET, AVRO etc.\n",
    "PATTERN = '*.csv' -- Check for file names as such; * is a wildcard character\n",
    "FORMAT_OPTIONS ( -- These options get applied to the source files (mergeSchema across input files, look for headers etc.)\n",
    "  'mergeSchema' = 'true',\n",
    "  'header' = 'true'\n",
    ")\n",
    "COPY_OPTIONS ( -- These options get applied to the target table (infer the schema, overwrite on write etc.)\n",
    "  'mergeSchema' = 'true'\n",
    ")\n",
    "-- Reruns -> no rows affected, inserted or skipped"
   ]
  },
  {
   "cell_type": "code",
   "execution_count": 0,
   "metadata": {
    "application/vnd.databricks.v1+cell": {
     "cellMetadata": {
      "byteLimit": 2048000,
      "implicitDf": true,
      "rowLimit": 10000
     },
     "inputWidgets": {},
     "nuid": "015d9f5f-68b4-4d7f-8b14-ddb6ef068d66",
     "showTitle": false,
     "tableResultSettingsMap": {},
     "title": ""
    }
   },
   "outputs": [],
   "source": [
    "%sql\n",
    "select * from dev.bronze.invoice_cp;"
   ]
  },
  {
   "cell_type": "code",
   "execution_count": 0,
   "metadata": {
    "application/vnd.databricks.v1+cell": {
     "cellMetadata": {
      "byteLimit": 2048000,
      "implicitDf": true,
      "rowLimit": 10000
     },
     "inputWidgets": {},
     "nuid": "999a9a84-bc57-4c1c-bca0-af157a3017ed",
     "showTitle": false,
     "tableResultSettingsMap": {},
     "title": ""
    }
   },
   "outputs": [],
   "source": [
    "%sql\n",
    "describe extended dev.bronze.invoice_cp;\n",
    "-- Stores a _copy_into_log at the specified location"
   ]
  },
  {
   "cell_type": "code",
   "execution_count": 0,
   "metadata": {
    "application/vnd.databricks.v1+cell": {
     "cellMetadata": {
      "byteLimit": 2048000,
      "rowLimit": 10000
     },
     "inputWidgets": {},
     "nuid": "a6ddeff5-bcf5-4ad0-ac51-42de8fa28a1e",
     "showTitle": false,
     "tableResultSettingsMap": {},
     "title": ""
    }
   },
   "outputs": [],
   "source": [
    "# Copy a new file from retail data CSV from databricks-datasets\n",
    "dbutils.fs.cp(\"/databricks-datasets/definitive-guide/data/retail-data/by-day/2010-12-03.csv\", \"/Volumes/dev/bronze/landing/input\")"
   ]
  },
  {
   "cell_type": "code",
   "execution_count": 0,
   "metadata": {
    "application/vnd.databricks.v1+cell": {
     "cellMetadata": {
      "byteLimit": 2048000,
      "implicitDf": true,
      "rowLimit": 10000
     },
     "inputWidgets": {},
     "nuid": "87dafc46-613f-4d4d-b473-7f85e179602f",
     "showTitle": false,
     "tableResultSettingsMap": {},
     "title": ""
    }
   },
   "outputs": [],
   "source": [
    "%sql\n",
    "-- COPY INTO\n",
    "COPY INTO dev.bronze.invoice_cp\n",
    "FROM '/Volumes/dev/bronze/landing/input/' -- Location to read files from\n",
    "FILEFORMAT = CSV -- Other valid file format options include PARQUET, AVRO etc.\n",
    "PATTERN = '*.csv' -- Check for file names as such; * is a wildcard character\n",
    "FORMAT_OPTIONS ( -- These options get applied to the source files (mergeSchema across input files, look for headers etc.)\n",
    "  'mergeSchema' = 'true',\n",
    "  'header' = 'true'\n",
    ")\n",
    "COPY_OPTIONS ( -- These options get applied to the target table (infer the schema, overwrite on write etc.)\n",
    "  'mergeSchema' = 'true'\n",
    ")\n",
    "-- Num rows affected = num rows in data = 2202"
   ]
  },
  {
   "cell_type": "code",
   "execution_count": 0,
   "metadata": {
    "application/vnd.databricks.v1+cell": {
     "cellMetadata": {
      "byteLimit": 2048000,
      "implicitDf": true,
      "rowLimit": 10000
     },
     "inputWidgets": {},
     "nuid": "20589ac5-f200-4842-80ad-5b889b1465d9",
     "showTitle": false,
     "tableResultSettingsMap": {},
     "title": ""
    }
   },
   "outputs": [],
   "source": [
    "%sql\n",
    "select count(*) from dev.bronze.invoice_cp;"
   ]
  },
  {
   "cell_type": "code",
   "execution_count": 0,
   "metadata": {
    "application/vnd.databricks.v1+cell": {
     "cellMetadata": {
      "byteLimit": 2048000,
      "implicitDf": true,
      "rowLimit": 10000
     },
     "inputWidgets": {},
     "nuid": "360c64f7-c0db-46e0-9fd1-839be9f295c4",
     "showTitle": false,
     "tableResultSettingsMap": {},
     "title": ""
    }
   },
   "outputs": [],
   "source": [
    "%sql\n",
    "-- It is also possible to copy over into custom columns\n",
    "create table dev.bronze.invoice_cp_custom(\n",
    "  InvoiceNo string,\n",
    "  StockCode string,\n",
    "  Quantity double,\n",
    "  _insert_date timestamp\n",
    ");\n",
    "\n",
    "COPY INTO dev.bronze.invoice_cp_custom\n",
    "FROM (\n",
    "  select InvoiceNO, StockCode, cast(Quantity as double) Quantity, current_timestamp() _insert_date\n",
    "  FROM\n",
    "  \"/Volumes/dev/bronze/landing/input\"\n",
    ")\n",
    "FILEFORMAT = CSV\n",
    "FORMAT_OPTIONS (\n",
    "  \"mergeSchema\" = \"true\",\n",
    "  \"header\" = \"true\"\n",
    ");"
   ]
  },
  {
   "cell_type": "code",
   "execution_count": 0,
   "metadata": {
    "application/vnd.databricks.v1+cell": {
     "cellMetadata": {
      "byteLimit": 2048000,
      "implicitDf": true,
      "rowLimit": 10000
     },
     "inputWidgets": {},
     "nuid": "4ef7afed-249a-4764-9f9d-4322366fabb0",
     "showTitle": false,
     "tableResultSettingsMap": {},
     "title": ""
    }
   },
   "outputs": [],
   "source": [
    "%sql\n",
    "select * from dev.bronze.invoice_cp_custom;"
   ]
  },
  {
   "cell_type": "code",
   "execution_count": 0,
   "metadata": {
    "application/vnd.databricks.v1+cell": {
     "cellMetadata": {},
     "inputWidgets": {},
     "nuid": "f4972c25-55f6-41be-98fe-d5f1388e7d7c",
     "showTitle": false,
     "tableResultSettingsMap": {},
     "title": ""
    }
   },
   "outputs": [],
   "source": []
  }
 ],
 "metadata": {
  "application/vnd.databricks.v1+notebook": {
   "computePreferences": null,
   "dashboards": [],
   "environmentMetadata": {
    "base_environment": "",
    "environment_version": "2"
   },
   "language": "python",
   "notebookMetadata": {
    "mostRecentlyExecutedCommandWithImplicitDF": {
     "commandId": 4826101381371675,
     "dataframes": [
      "_sqldf"
     ]
    },
    "pythonIndentUnit": 4
   },
   "notebookName": "COPY INTO",
   "widgets": {}
  },
  "language_info": {
   "name": "python"
  }
 },
 "nbformat": 4,
 "nbformat_minor": 0
}
