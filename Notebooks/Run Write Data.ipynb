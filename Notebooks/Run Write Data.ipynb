{
 "cells": [
  {
   "cell_type": "markdown",
   "metadata": {
    "application/vnd.databricks.v1+cell": {
     "cellMetadata": {},
     "inputWidgets": {},
     "nuid": "95711563-477e-472a-b157-dfd2cbcfc439",
     "showTitle": false,
     "tableResultSettingsMap": {},
     "title": ""
    }
   },
   "source": [
    "This notebook will be used to run the \"Write Data\" notebook using DBUTILS"
   ]
  },
  {
   "cell_type": "code",
   "execution_count": 0,
   "metadata": {
    "application/vnd.databricks.v1+cell": {
     "cellMetadata": {
      "byteLimit": 2048000,
      "rowLimit": 10000
     },
     "inputWidgets": {},
     "nuid": "e8dba85d-de5d-4b5e-81ff-fabdd5170b1a",
     "showTitle": false,
     "tableResultSettingsMap": {},
     "title": ""
    }
   },
   "outputs": [],
   "source": [
    "# Run notebook using dbutils.notebook.run\n",
    "dbutils.notebook.run(\n",
    "  \"Write Data\",\n",
    "  timeout_seconds=600, # Time out after 10 minutes\n",
    "  arguments={\n",
    "    \"dept\": \"office\", # The name of the parameter is the name of the widget created\n",
    "  }\n",
    ")\n",
    "# This also returns the value returned by the dbutils.notebook.exit(_count) call in the child notebook"
   ]
  }
 ],
 "metadata": {
  "application/vnd.databricks.v1+notebook": {
   "computePreferences": null,
   "dashboards": [],
   "environmentMetadata": {
    "base_environment": "",
    "environment_version": "2"
   },
   "language": "python",
   "notebookMetadata": {
    "pythonIndentUnit": 4
   },
   "notebookName": "Run Write Data",
   "widgets": {}
  },
  "language_info": {
   "name": "python"
  }
 },
 "nbformat": 4,
 "nbformat_minor": 0
}
